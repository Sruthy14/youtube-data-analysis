{
 "cells": [
  {
   "cell_type": "code",
   "execution_count": null,
   "metadata": {},
   "outputs": [],
   "source": [
    "request = youtube.videos().list(\n",
    "        part=\"snippet,contentDetails,statistics\",\n",
    "        chart=\"mostPopular\",\n",
    "        regionCode=\"GB\"\n",
    "    )\n",
    "response = request.execute()"
   ]
  },
  {
   "cell_type": "code",
   "execution_count": null,
   "metadata": {},
   "outputs": [],
   "source": [
    "def remove_dict_keys(dict, key_list):\n",
    "    for key in key_list['remove']:\n",
    "        if key in dict.keys():\n",
    "            del dict[key]\n",
    "    for key in key_list['set_none']:\n",
    "        if key in dict.keys():\n",
    "            # if(not dict[key]):\n",
    "            dict[key] = None\n",
    "    return dict"
   ]
  },
  {
   "cell_type": "code",
   "execution_count": null,
   "metadata": {},
   "outputs": [],
   "source": [
    "d = {'col1': [1, 2], 'col2': [3, 4]}\n",
    "df = pd.DataFrame(data=d)"
   ]
  },
  {
   "cell_type": "code",
   "execution_count": null,
   "metadata": {},
   "outputs": [],
   "source": [
    "columns = {'snippet': {'remove': ['localized', 'thumbnails',], \n",
    "                      'set_none':['tags', 'defaultLanguage']}}\n",
    "# columns = {'statistics': {'remove': [],\n",
    "#                           'set_none': []}}\n",
    "        #    'contentDetails': ['duration', 'definition', 'caption']}\n",
    "\n",
    "# columns = ['snippet']#, 'statistics', 'contentDetails']\n",
    "\n",
    "stats_df = pd.DataFrame()\n",
    "data_dict = {}\n",
    "data_df_list = []\n",
    "\n",
    "\n",
    "for stats_dict in response['items']:\n",
    "    for stat, stat_data_dict in stats_dict.items():\n",
    "        if stat in list(columns.keys()):\n",
    "            stat_data_dict_filtered = remove_dict_keys(stat_data_dict, columns[stat])\n",
    "            data_df_list.append((pd.DataFrame(stat_data_dict_filtered, \n",
    "                                      index=range(len(stat_data_dict_filtered.keys())))))\n",
    "\n",
    "pd.concat(data_df_list)\n"
   ]
  }
 ],
 "metadata": {
  "language_info": {
   "name": "python"
  },
  "orig_nbformat": 4
 },
 "nbformat": 4,
 "nbformat_minor": 2
}
